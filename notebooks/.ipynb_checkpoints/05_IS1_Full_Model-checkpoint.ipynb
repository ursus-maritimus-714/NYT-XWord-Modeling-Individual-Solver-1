{
 "cells": [
  {
   "cell_type": "markdown",
   "id": "716cb14e",
   "metadata": {},
   "source": [
    "### Imports"
   ]
  },
  {
   "cell_type": "code",
   "execution_count": 2,
   "id": "29ee9205",
   "metadata": {},
   "outputs": [],
   "source": [
    "import pandas as pd\n",
    "import numpy as np\n",
    "import os\n",
    "import pickle\n",
    "import matplotlib.pyplot as plt\n",
    "import seaborn as sns\n",
    "from sklearn import __version__ as sklearn_version\n",
    "from sklearn.model_selection import cross_validate"
   ]
  },
  {
   "cell_type": "markdown",
   "id": "51fbf267",
   "metadata": {},
   "source": [
    "### Load Best Model"
   ]
  },
  {
   "cell_type": "code",
   "execution_count": 3,
   "id": "201f34f7",
   "metadata": {},
   "outputs": [],
   "source": [
    "expected_model_version = '1.0'\n",
    "model_path = '../models/full best model/IS1_full_best_model_lr.pkl'\n",
    "if os.path.exists(model_path):\n",
    "    with open(model_path, 'rb') as f:\n",
    "        model = pickle.load(f)\n",
    "    if model.version != expected_model_version:\n",
    "        print(\"Expected model version doesn't match version loaded\")\n",
    "    if model.sklearn_version != sklearn_version:\n",
    "        print(\"Warning: model created under different sklearn version\")\n",
    "else:\n",
    "    print(\"Expected model not found\")"
   ]
  },
  {
   "cell_type": "markdown",
   "id": "de69983d",
   "metadata": {},
   "source": [
    "### Load and Filter Data"
   ]
  },
  {
   "cell_type": "code",
   "execution_count": 5,
   "id": "aed83d2d",
   "metadata": {},
   "outputs": [],
   "source": [
    "#Processed data used in generating best IS1 model\n",
    "data = pd.read_csv('../data/df_for_modeling_no_decay_weighting.csv')"
   ]
  },
  {
   "cell_type": "code",
   "execution_count": 7,
   "id": "910ea415",
   "metadata": {},
   "outputs": [],
   "source": [
    "# Drop some columns that we don't want/need for modeling (and a few would cause subtle forms of data leakage)\n",
    "df_filter = data.copy()\n",
    "df_filter.drop(['P_Date','P_Date_str', 'Comp_Date', 'Comp_Date_str', 'IS1_Completed','DOW', 'IS_pds_l8_ndw', 'GMST(m)', 'Constructors','overall_day_mean_IST(m)','Uniclue','Duplicate_Answers','Unchecked_Sq','Quantum'],inplace=True,axis=1)"
   ]
  },
  {
   "cell_type": "code",
   "execution_count": 8,
   "id": "ed174a92",
   "metadata": {},
   "outputs": [],
   "source": [
    "# This one has no impact on prediction quality but was raising warning in the Linear Modeling for some reason (probably all zeroes in the training set)\n",
    "df_filter.drop(['Outside_Grid'], inplace=True, axis=1)\n",
    "#df_filter.drop(['Duplicate_Clues', 'Circle_Count', 'Shade_Count', 'Unusual_Sym', 'Black_Square_Fill'], inplace=True, axis=1)"
   ]
  },
  {
   "cell_type": "code",
   "execution_count": 9,
   "id": "71de1c51",
   "metadata": {},
   "outputs": [],
   "source": [
    "#Move target feature to the front\n",
    "col = df_filter.pop('IS1_ST(m)')\n",
    "df_filter.insert(0, col.name, col)"
   ]
  },
  {
   "cell_type": "code",
   "execution_count": 10,
   "id": "0a654fb4",
   "metadata": {},
   "outputs": [],
   "source": [
    "#Filter out Sunday\n",
    "df_filter =df_filter[df_filter[\"DOW_num\"]!=1]"
   ]
  },
  {
   "cell_type": "code",
   "execution_count": 11,
   "id": "4d21cc23",
   "metadata": {},
   "outputs": [],
   "source": [
    "#Deep copy of this df_filter that is now pared down to just the predictive features and the target feature itself \n",
    "# All features are derived from data available prior to any given puzzle being predicted on. No data leakage!\n",
    "df_model1 = df_filter.copy()"
   ]
  },
  {
   "cell_type": "code",
   "execution_count": 12,
   "id": "d82437f3",
   "metadata": {},
   "outputs": [
    {
     "name": "stdout",
     "output_type": "stream",
     "text": [
      "<class 'pandas.core.frame.DataFrame'>\n",
      "Int64Index: 828 entries, 0 to 964\n",
      "Data columns (total 35 columns):\n",
      " #   Column                                Non-Null Count  Dtype  \n",
      "---  ------                                --------------  -----  \n",
      " 0   IS1_ST(m)                             828 non-null    float64\n",
      " 1   Comp_Hr                               828 non-null    int64  \n",
      " 2   Solve_day_phase                       828 non-null    float64\n",
      " 3   IS_per_sdp_avg_past_diff_from_RPB     827 non-null    float64\n",
      " 4   DOW_num                               828 non-null    float64\n",
      " 5   IS_pds_l8_stdev                       828 non-null    float64\n",
      " 6   IS_pds_l8_ndw_SOS_adj                 828 non-null    float64\n",
      " 7   IS_per_constr_avg_past_diff_from_RPB  489 non-null    float64\n",
      " 8   IS1_pds_prior_solves_ct               828 non-null    float64\n",
      " 9   IS1_npds_prior_solves_ct              828 non-null    float64\n",
      " 10  IS1_solves_l7                         828 non-null    float64\n",
      " 11  Words                                 828 non-null    int64  \n",
      " 12  Blocks                                828 non-null    int64  \n",
      " 13  Unused_Letters                        828 non-null    int64  \n",
      " 14  Stacks                                828 non-null    int64  \n",
      " 15  Unique_Answers                        828 non-null    int64  \n",
      " 16  Rebus_Count                           828 non-null    int64  \n",
      " 17  Rebus_Unique                          828 non-null    int64  \n",
      " 18  Cheater_Squares                       828 non-null    int64  \n",
      " 19  AWL                                   828 non-null    float64\n",
      " 20  Scrabble_Score                        782 non-null    float64\n",
      " 21  Scrabble_Avg                          828 non-null    float64\n",
      " 22  FITB                                  828 non-null    int64  \n",
      " 23  Cross_Ref_Clues                       828 non-null    int64  \n",
      " 24  Scrabble_Illegal                      828 non-null    int64  \n",
      " 25  Open_Squares                          828 non-null    int64  \n",
      " 26  Freshness_Factor                      828 non-null    float64\n",
      " 27  Overall_Freshness%                    828 non-null    float64\n",
      " 28  Day_Freshness%                        828 non-null    float64\n",
      " 29  Duplicate_Clues                       828 non-null    int64  \n",
      " 30  Circle_Count                          828 non-null    int64  \n",
      " 31  Shade_Count                           828 non-null    int64  \n",
      " 32  Unusual_Sym                           828 non-null    int64  \n",
      " 33  Black_Square_Fill                     828 non-null    int64  \n",
      " 34  Wordplay                              828 non-null    float64\n",
      "dtypes: float64(17), int64(18)\n",
      "memory usage: 232.9 KB\n"
     ]
    }
   ],
   "source": [
    "df_model1.info()"
   ]
  },
  {
   "cell_type": "markdown",
   "id": "5bd6956e",
   "metadata": {},
   "source": [
    "### Refit Model on All Available Data "
   ]
  },
  {
   "cell_type": "code",
   "execution_count": 13,
   "id": "f6403e24",
   "metadata": {},
   "outputs": [],
   "source": [
    "X = df_model1[model.X_columns]\n",
    "y = df_model1['IS1_ST(m)']"
   ]
  },
  {
   "cell_type": "code",
   "execution_count": 14,
   "id": "3a78fbd5",
   "metadata": {},
   "outputs": [
    {
     "data": {
      "text/plain": [
       "(828, 828)"
      ]
     },
     "execution_count": 14,
     "metadata": {},
     "output_type": "execute_result"
    }
   ],
   "source": [
    "len(X), len(y)"
   ]
  },
  {
   "cell_type": "code",
   "execution_count": 15,
   "id": "60a02742",
   "metadata": {},
   "outputs": [
    {
     "data": {
      "text/plain": [
       "Pipeline(steps=[('simpleimputer', SimpleImputer()),\n",
       "                ('standardscaler', StandardScaler()),\n",
       "                ('selectkbest',\n",
       "                 SelectKBest(k=7,\n",
       "                             score_func=<function f_regression at 0x0000015416840AF0>)),\n",
       "                ('linearregression', LinearRegression())])"
      ]
     },
     "execution_count": 15,
     "metadata": {},
     "output_type": "execute_result"
    }
   ],
   "source": [
    "model.fit(X, y)"
   ]
  },
  {
   "cell_type": "markdown",
   "id": "c11b4c8c",
   "metadata": {},
   "source": [
    "for all scoring options, see https://scikit-learn.org/stable/modules/model_evaluation.html#scoring-parameter"
   ]
  },
  {
   "cell_type": "markdown",
   "id": "2e45f11a",
   "metadata": {},
   "source": [
    "#### R-squared (COD)"
   ]
  },
  {
   "cell_type": "code",
   "execution_count": 16,
   "id": "036e555f",
   "metadata": {},
   "outputs": [],
   "source": [
    "cv_results = cross_validate(model, X, y, scoring='r2', cv=5)"
   ]
  },
  {
   "cell_type": "code",
   "execution_count": 17,
   "id": "c18f5951",
   "metadata": {},
   "outputs": [
    {
     "data": {
      "text/plain": [
       "array([0.40263598, 0.52752213, 0.47542477, 0.58623311, 0.65279598])"
      ]
     },
     "execution_count": 17,
     "metadata": {},
     "output_type": "execute_result"
    }
   ],
   "source": [
    "cv_results['test_score']"
   ]
  },
  {
   "cell_type": "code",
   "execution_count": 18,
   "id": "e87c7741",
   "metadata": {},
   "outputs": [
    {
     "data": {
      "text/plain": [
       "(0.5289223951493731, 0.0865348446305319)"
      ]
     },
     "execution_count": 18,
     "metadata": {},
     "output_type": "execute_result"
    }
   ],
   "source": [
    "rs_mean, rs_std = np.mean(1 * cv_results['test_score']), np.std(-1 * cv_results['test_score'])\n",
    "rs_mean, rs_std"
   ]
  },
  {
   "cell_type": "markdown",
   "id": "379b0399",
   "metadata": {},
   "source": [
    "#### Mean Absolute Error (MAE)"
   ]
  },
  {
   "cell_type": "code",
   "execution_count": 19,
   "id": "a9544980",
   "metadata": {},
   "outputs": [],
   "source": [
    "cv_results1 = cross_validate(model, X, y, scoring='neg_mean_absolute_error', cv=5)"
   ]
  },
  {
   "cell_type": "code",
   "execution_count": 20,
   "id": "05e509b9",
   "metadata": {},
   "outputs": [
    {
     "data": {
      "text/plain": [
       "array([-2.1259755 , -2.99230495, -2.63641758, -2.29336943, -2.52506997])"
      ]
     },
     "execution_count": 20,
     "metadata": {},
     "output_type": "execute_result"
    }
   ],
   "source": [
    "cv_results1['test_score']"
   ]
  },
  {
   "cell_type": "code",
   "execution_count": 21,
   "id": "3658b8ae",
   "metadata": {},
   "outputs": [
    {
     "data": {
      "text/plain": [
       "(2.514627484844376, 0.29769888152335344)"
      ]
     },
     "execution_count": 21,
     "metadata": {},
     "output_type": "execute_result"
    }
   ],
   "source": [
    "mae_mean, mae_std = np.mean(-1 * cv_results1['test_score']), np.std(-1 * cv_results1['test_score'])\n",
    "mae_mean, mae_std"
   ]
  },
  {
   "cell_type": "markdown",
   "id": "864f0def",
   "metadata": {},
   "source": [
    "#### Mean Squared Error (MSE)"
   ]
  },
  {
   "cell_type": "code",
   "execution_count": 22,
   "id": "48e4243c",
   "metadata": {},
   "outputs": [],
   "source": [
    "cv_results2 = cross_validate(model, X, y, scoring='neg_mean_squared_error', cv=5)"
   ]
  },
  {
   "cell_type": "code",
   "execution_count": 23,
   "id": "c80a4728",
   "metadata": {},
   "outputs": [
    {
     "data": {
      "text/plain": [
       "array([ -9.23995268, -22.92690288, -16.84686265, -10.77805498,\n",
       "       -14.12510351])"
      ]
     },
     "execution_count": 23,
     "metadata": {},
     "output_type": "execute_result"
    }
   ],
   "source": [
    "cv_results2['test_score']"
   ]
  },
  {
   "cell_type": "code",
   "execution_count": 24,
   "id": "44b09d80",
   "metadata": {},
   "outputs": [
    {
     "data": {
      "text/plain": [
       "(14.783375338632116, 4.853462032919279)"
      ]
     },
     "execution_count": 24,
     "metadata": {},
     "output_type": "execute_result"
    }
   ],
   "source": [
    "mse_mean, mse_std = np.mean(-1 * cv_results2['test_score']), np.std(-1 * cv_results2['test_score'])\n",
    "mse_mean, mse_std"
   ]
  },
  {
   "cell_type": "markdown",
   "id": "af2fc429",
   "metadata": {},
   "source": [
    "#### Root Mean Squared Error (RMSE)"
   ]
  },
  {
   "cell_type": "code",
   "execution_count": 25,
   "id": "fa4a7e3a",
   "metadata": {},
   "outputs": [],
   "source": [
    "cv_results3 = cross_validate(model, X, y, scoring='neg_root_mean_squared_error', cv=5)"
   ]
  },
  {
   "cell_type": "code",
   "execution_count": 26,
   "id": "14a3c46d",
   "metadata": {},
   "outputs": [
    {
     "data": {
      "text/plain": [
       "array([-3.03972905, -4.78820456, -4.10449298, -3.28299482, -3.75833787])"
      ]
     },
     "execution_count": 26,
     "metadata": {},
     "output_type": "execute_result"
    }
   ],
   "source": [
    "cv_results3['test_score']"
   ]
  },
  {
   "cell_type": "code",
   "execution_count": 27,
   "id": "f7b47494",
   "metadata": {},
   "outputs": [
    {
     "data": {
      "text/plain": [
       "(3.794751854099323, 0.6190587245503208)"
      ]
     },
     "execution_count": 27,
     "metadata": {},
     "output_type": "execute_result"
    }
   ],
   "source": [
    "rmse_mean, rmse_std = np.mean(-1 * cv_results3['test_score']), np.std(-1 * cv_results3['test_score'])\n",
    "rmse_mean, rmse_std"
   ]
  },
  {
   "cell_type": "code",
   "execution_count": null,
   "id": "f126e441",
   "metadata": {},
   "outputs": [],
   "source": []
  }
 ],
 "metadata": {
  "kernelspec": {
   "display_name": "Python 3",
   "language": "python",
   "name": "python3"
  },
  "language_info": {
   "codemirror_mode": {
    "name": "ipython",
    "version": 3
   },
   "file_extension": ".py",
   "mimetype": "text/x-python",
   "name": "python",
   "nbconvert_exporter": "python",
   "pygments_lexer": "ipython3",
   "version": "3.8.8"
  }
 },
 "nbformat": 4,
 "nbformat_minor": 5
}
